{
 "cells": [
  {
   "cell_type": "code",
   "execution_count": 11,
   "id": "bc4c32b2",
   "metadata": {},
   "outputs": [],
   "source": [
    "import pandas as pd\n",
    "\n",
    "data = pd.read_csv('./bank.csv', na_values=[' ', '', '-'])"
   ]
  },
  {
   "cell_type": "code",
   "execution_count": 12,
   "id": "bb20ebde",
   "metadata": {},
   "outputs": [
    {
     "name": "stdout",
     "output_type": "stream",
     "text": [
      "<class 'pandas.core.frame.DataFrame'>\n",
      "RangeIndex: 4898 entries, 0 to 4897\n",
      "Data columns (total 15 columns):\n",
      " #   Column              Non-Null Count  Dtype  \n",
      "---  ------              --------------  -----  \n",
      " 0   Surname             4897 non-null   object \n",
      " 1   CreditScore         4898 non-null   int64  \n",
      " 2   Geography           4896 non-null   object \n",
      " 3   Gender              4898 non-null   object \n",
      " 4   Age                 4895 non-null   float64\n",
      " 5   Tenure              4898 non-null   int64  \n",
      " 6   Balance             4898 non-null   float64\n",
      " 7   NumOfProducts       4898 non-null   int64  \n",
      " 8   HasCrCard           4898 non-null   int64  \n",
      " 9   IsActiveMember      4898 non-null   int64  \n",
      " 10  EstimatedSalary     4898 non-null   float64\n",
      " 11  Exited              4898 non-null   int64  \n",
      " 12  Satisfaction.Score  4898 non-null   int64  \n",
      " 13  Card.Type           4898 non-null   object \n",
      " 14  Point.Earned        4898 non-null   int64  \n",
      "dtypes: float64(3), int64(8), object(4)\n",
      "memory usage: 574.1+ KB\n"
     ]
    }
   ],
   "source": [
    "data.info()"
   ]
  },
  {
   "cell_type": "code",
   "execution_count": 13,
   "id": "a3e9adc9",
   "metadata": {},
   "outputs": [],
   "source": [
    "data['Stayed'] = ~data['Exited']"
   ]
  },
  {
   "cell_type": "code",
   "execution_count": null,
   "id": "64d8770b",
   "metadata": {},
   "outputs": [],
   "source": [
    "data = data[data['Age'] <= 87].reset_index(drop=True)"
   ]
  },
  {
   "cell_type": "code",
   "execution_count": 15,
   "id": "813f310a",
   "metadata": {},
   "outputs": [
    {
     "name": "stdout",
     "output_type": "stream",
     "text": [
      "<class 'pandas.core.frame.DataFrame'>\n",
      "Index: 4894 entries, 1 to 4897\n",
      "Data columns (total 16 columns):\n",
      " #   Column              Non-Null Count  Dtype  \n",
      "---  ------              --------------  -----  \n",
      " 0   Surname             4893 non-null   object \n",
      " 1   CreditScore         4894 non-null   int64  \n",
      " 2   Geography           4892 non-null   object \n",
      " 3   Gender              4894 non-null   object \n",
      " 4   Age                 4894 non-null   float64\n",
      " 5   Tenure              4894 non-null   int64  \n",
      " 6   Balance             4894 non-null   float64\n",
      " 7   NumOfProducts       4894 non-null   int64  \n",
      " 8   HasCrCard           4894 non-null   int64  \n",
      " 9   IsActiveMember      4894 non-null   int64  \n",
      " 10  EstimatedSalary     4894 non-null   float64\n",
      " 11  Exited              4894 non-null   int64  \n",
      " 12  Satisfaction.Score  4894 non-null   int64  \n",
      " 13  Card.Type           4894 non-null   object \n",
      " 14  Point.Earned        4894 non-null   int64  \n",
      " 15  Stayed              4894 non-null   int64  \n",
      "dtypes: float64(3), int64(9), object(4)\n",
      "memory usage: 650.0+ KB\n"
     ]
    }
   ],
   "source": [
    "data.info()"
   ]
  },
  {
   "cell_type": "code",
   "execution_count": null,
   "id": "4e2f9ddf",
   "metadata": {},
   "outputs": [],
   "source": []
  }
 ],
 "metadata": {
  "kernelspec": {
   "display_name": "Python 3",
   "language": "python",
   "name": "python3"
  },
  "language_info": {
   "codemirror_mode": {
    "name": "ipython",
    "version": 3
   },
   "file_extension": ".py",
   "mimetype": "text/x-python",
   "name": "python",
   "nbconvert_exporter": "python",
   "pygments_lexer": "ipython3",
   "version": "3.11.3"
  }
 },
 "nbformat": 4,
 "nbformat_minor": 5
}
