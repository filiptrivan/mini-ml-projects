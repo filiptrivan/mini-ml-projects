{
 "cells": [
  {
   "cell_type": "code",
   "execution_count": 2,
   "id": "75c0f063",
   "metadata": {},
   "outputs": [],
   "source": [
    "import pandas as pd\n",
    "import numpy as np"
   ]
  },
  {
   "cell_type": "code",
   "execution_count": 6,
   "id": "f3337633",
   "metadata": {},
   "outputs": [
    {
     "name": "stdout",
     "output_type": "stream",
     "text": [
      "<class 'pandas.core.frame.DataFrame'>\n",
      "RangeIndex: 953 entries, 0 to 952\n",
      "Data columns (total 13 columns):\n",
      " #   Column                Non-Null Count  Dtype  \n",
      "---  ------                --------------  -----  \n",
      " 0   track_name            953 non-null    object \n",
      " 1   released_year         953 non-null    int64  \n",
      " 2   in_spotify_playlists  953 non-null    int64  \n",
      " 3   in_spotify_charts     951 non-null    float64\n",
      " 4   streams               953 non-null    int64  \n",
      " 5   in_apple_playlists    953 non-null    int64  \n",
      " 6   in_apple_charts       951 non-null    float64\n",
      " 7   bpm                   953 non-null    int64  \n",
      " 8   mode                  953 non-null    object \n",
      " 9   energy                953 non-null    int64  \n",
      " 10  instrumentalness      953 non-null    int64  \n",
      " 11  liveness              953 non-null    int64  \n",
      " 12  speechiness           953 non-null    int64  \n",
      "dtypes: float64(2), int64(9), object(2)\n",
      "memory usage: 96.9+ KB\n",
      "None\n"
     ]
    }
   ],
   "source": [
    "data = pd.read_csv('./spotify.csv', na_values=['', ' ', '-'])\n",
    "\n",
    "print(data.info())"
   ]
  },
  {
   "cell_type": "code",
   "execution_count": 9,
   "id": "c4dd63da",
   "metadata": {},
   "outputs": [],
   "source": [
    "data = data[data['in_spotify_charts'].isnull() == False].reset_index(drop=True)\n",
    "data = data[data['in_apple_charts'].isnull() == False].reset_index(drop=True)"
   ]
  },
  {
   "cell_type": "code",
   "execution_count": null,
   "id": "b3c72337",
   "metadata": {},
   "outputs": [],
   "source": []
  }
 ],
 "metadata": {
  "kernelspec": {
   "display_name": "Python 3",
   "language": "python",
   "name": "python3"
  },
  "language_info": {
   "codemirror_mode": {
    "name": "ipython",
    "version": 3
   },
   "file_extension": ".py",
   "mimetype": "text/x-python",
   "name": "python",
   "nbconvert_exporter": "python",
   "pygments_lexer": "ipython3",
   "version": "3.11.3"
  }
 },
 "nbformat": 4,
 "nbformat_minor": 5
}
