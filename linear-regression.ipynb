{
 "cells": [
  {
   "cell_type": "code",
   "execution_count": 113,
   "id": "20aa7ed5",
   "metadata": {},
   "outputs": [],
   "source": [
    "import pandas as pd "
   ]
  },
  {
   "cell_type": "code",
   "execution_count": 114,
   "id": "ff860baa",
   "metadata": {},
   "outputs": [],
   "source": [
    "data = pd.read_csv('./fastfood.csv', na_values=['-', ' ', ''])"
   ]
  },
  {
   "cell_type": "code",
   "execution_count": 115,
   "id": "bf721c0a",
   "metadata": {},
   "outputs": [
    {
     "name": "stdout",
     "output_type": "stream",
     "text": [
      "<class 'pandas.core.frame.DataFrame'>\n",
      "RangeIndex: 515 entries, 0 to 514\n",
      "Data columns (total 14 columns):\n",
      " #   Column       Non-Null Count  Dtype  \n",
      "---  ------       --------------  -----  \n",
      " 0   restaurant   512 non-null    object \n",
      " 1   item         515 non-null    object \n",
      " 2   calories     515 non-null    int64  \n",
      " 3   cal_fat      514 non-null    float64\n",
      " 4   total_fat    515 non-null    int64  \n",
      " 5   sat_fat      515 non-null    float64\n",
      " 6   trans_fat    515 non-null    float64\n",
      " 7   cholesterol  515 non-null    int64  \n",
      " 8   sodium       515 non-null    int64  \n",
      " 9   total_carb   515 non-null    int64  \n",
      " 10  fiber        503 non-null    float64\n",
      " 11  sugar        515 non-null    int64  \n",
      " 12  protein      513 non-null    float64\n",
      " 13  calcium      305 non-null    float64\n",
      "dtypes: float64(6), int64(6), object(2)\n",
      "memory usage: 56.5+ KB\n"
     ]
    },
    {
     "data": {
      "text/plain": [
       "141"
      ]
     },
     "execution_count": 115,
     "metadata": {},
     "output_type": "execute_result"
    }
   ],
   "source": [
    "data.info()\n",
    "data['total_fat'].max()"
   ]
  },
  {
   "cell_type": "code",
   "execution_count": 116,
   "id": "9530b598",
   "metadata": {},
   "outputs": [],
   "source": [
    "data = data.loc[data['total_fat'] < 125]"
   ]
  },
  {
   "cell_type": "code",
   "execution_count": 117,
   "id": "a922c6a2",
   "metadata": {},
   "outputs": [
    {
     "name": "stdout",
     "output_type": "stream",
     "text": [
      "<class 'pandas.core.frame.DataFrame'>\n",
      "Index: 513 entries, 0 to 514\n",
      "Data columns (total 14 columns):\n",
      " #   Column       Non-Null Count  Dtype  \n",
      "---  ------       --------------  -----  \n",
      " 0   restaurant   510 non-null    object \n",
      " 1   item         513 non-null    object \n",
      " 2   calories     513 non-null    int64  \n",
      " 3   cal_fat      512 non-null    float64\n",
      " 4   total_fat    513 non-null    int64  \n",
      " 5   sat_fat      513 non-null    float64\n",
      " 6   trans_fat    513 non-null    float64\n",
      " 7   cholesterol  513 non-null    int64  \n",
      " 8   sodium       513 non-null    int64  \n",
      " 9   total_carb   513 non-null    int64  \n",
      " 10  fiber        501 non-null    float64\n",
      " 11  sugar        513 non-null    int64  \n",
      " 12  protein      511 non-null    float64\n",
      " 13  calcium      304 non-null    float64\n",
      "dtypes: float64(6), int64(6), object(2)\n",
      "memory usage: 60.1+ KB\n"
     ]
    }
   ],
   "source": [
    "data.info()"
   ]
  },
  {
   "cell_type": "code",
   "execution_count": 118,
   "id": "ada4511b",
   "metadata": {},
   "outputs": [
    {
     "name": "stdout",
     "output_type": "stream",
     "text": [
      "restaurant       3\n",
      "item             0\n",
      "calories         0\n",
      "cal_fat          1\n",
      "total_fat        0\n",
      "sat_fat          0\n",
      "trans_fat        0\n",
      "cholesterol      0\n",
      "sodium           0\n",
      "total_carb       0\n",
      "fiber           12\n",
      "sugar            0\n",
      "protein          2\n",
      "calcium        209\n",
      "dtype: int64\n"
     ]
    }
   ],
   "source": [
    "print(data.isna().sum())\n",
    "# Calcium has a lot of na values, we should take median or mean for it based on shapiro, we can just drop the other ones"
   ]
  },
  {
   "cell_type": "code",
   "execution_count": 119,
   "id": "f0061b7b",
   "metadata": {},
   "outputs": [],
   "source": [
    "data.drop(columns=['restaurant', 'item'], inplace=True)\n",
    "data = data.loc[data['cal_fat'].notna() & data['fiber'].notna() & data['protein'].notna()]"
   ]
  },
  {
   "cell_type": "code",
   "execution_count": 120,
   "id": "a5575420",
   "metadata": {},
   "outputs": [
    {
     "name": "stdout",
     "output_type": "stream",
     "text": [
      "<class 'pandas.core.frame.DataFrame'>\n",
      "Index: 499 entries, 0 to 514\n",
      "Data columns (total 12 columns):\n",
      " #   Column       Non-Null Count  Dtype  \n",
      "---  ------       --------------  -----  \n",
      " 0   calories     499 non-null    int64  \n",
      " 1   cal_fat      499 non-null    float64\n",
      " 2   total_fat    499 non-null    int64  \n",
      " 3   sat_fat      499 non-null    float64\n",
      " 4   trans_fat    499 non-null    float64\n",
      " 5   cholesterol  499 non-null    int64  \n",
      " 6   sodium       499 non-null    int64  \n",
      " 7   total_carb   499 non-null    int64  \n",
      " 8   fiber        499 non-null    float64\n",
      " 9   sugar        499 non-null    int64  \n",
      " 10  protein      499 non-null    float64\n",
      " 11  calcium      302 non-null    float64\n",
      "dtypes: float64(6), int64(6)\n",
      "memory usage: 50.7 KB\n"
     ]
    }
   ],
   "source": [
    "data.info()"
   ]
  },
  {
   "cell_type": "code",
   "execution_count": 121,
   "id": "58ccbe3d",
   "metadata": {},
   "outputs": [
    {
     "name": "stdout",
     "output_type": "stream",
     "text": [
      "1.0\n"
     ]
    }
   ],
   "source": [
    "from scipy.stats import shapiro\n",
    "\n",
    "_, p = shapiro(data['calcium'])\n",
    "\n",
    "print(p)"
   ]
  }
 ],
 "metadata": {
  "kernelspec": {
   "display_name": "Python 3",
   "language": "python",
   "name": "python3"
  },
  "language_info": {
   "codemirror_mode": {
    "name": "ipython",
    "version": 3
   },
   "file_extension": ".py",
   "mimetype": "text/x-python",
   "name": "python",
   "nbconvert_exporter": "python",
   "pygments_lexer": "ipython3",
   "version": "3.11.3"
  }
 },
 "nbformat": 4,
 "nbformat_minor": 5
}
