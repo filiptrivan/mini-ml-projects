{
 "cells": [
  {
   "cell_type": "code",
   "execution_count": 100,
   "id": "4f832231",
   "metadata": {},
   "outputs": [],
   "source": [
    "import pandas as pd\n",
    "import numpy as np"
   ]
  },
  {
   "cell_type": "code",
   "execution_count": 101,
   "id": "75b9e0f1",
   "metadata": {},
   "outputs": [],
   "source": [
    "data = pd.read_csv('./fastfood.csv', na_values=['-', ' ', ''])"
   ]
  },
  {
   "cell_type": "code",
   "execution_count": 102,
   "id": "fc5ef572",
   "metadata": {},
   "outputs": [
    {
     "name": "stdout",
     "output_type": "stream",
     "text": [
      "<class 'pandas.core.frame.DataFrame'>\n",
      "RangeIndex: 515 entries, 0 to 514\n",
      "Data columns (total 14 columns):\n",
      " #   Column       Non-Null Count  Dtype  \n",
      "---  ------       --------------  -----  \n",
      " 0   restaurant   512 non-null    object \n",
      " 1   item         515 non-null    object \n",
      " 2   calories     515 non-null    int64  \n",
      " 3   cal_fat      514 non-null    float64\n",
      " 4   total_fat    515 non-null    int64  \n",
      " 5   sat_fat      515 non-null    float64\n",
      " 6   trans_fat    515 non-null    float64\n",
      " 7   cholesterol  515 non-null    int64  \n",
      " 8   sodium       515 non-null    int64  \n",
      " 9   total_carb   515 non-null    int64  \n",
      " 10  fiber        503 non-null    float64\n",
      " 11  sugar        515 non-null    int64  \n",
      " 12  protein      513 non-null    float64\n",
      " 13  calcium      305 non-null    float64\n",
      "dtypes: float64(6), int64(6), object(2)\n",
      "memory usage: 56.5+ KB\n"
     ]
    }
   ],
   "source": [
    "data.info()"
   ]
  },
  {
   "cell_type": "code",
   "execution_count": 103,
   "id": "62c51c1a",
   "metadata": {},
   "outputs": [
    {
     "data": {
      "text/html": [
       "<div>\n",
       "<style scoped>\n",
       "    .dataframe tbody tr th:only-of-type {\n",
       "        vertical-align: middle;\n",
       "    }\n",
       "\n",
       "    .dataframe tbody tr th {\n",
       "        vertical-align: top;\n",
       "    }\n",
       "\n",
       "    .dataframe thead th {\n",
       "        text-align: right;\n",
       "    }\n",
       "</style>\n",
       "<table border=\"1\" class=\"dataframe\">\n",
       "  <thead>\n",
       "    <tr style=\"text-align: right;\">\n",
       "      <th></th>\n",
       "      <th>restaurant</th>\n",
       "      <th>item</th>\n",
       "      <th>calories</th>\n",
       "      <th>cal_fat</th>\n",
       "      <th>total_fat</th>\n",
       "      <th>sat_fat</th>\n",
       "      <th>trans_fat</th>\n",
       "      <th>cholesterol</th>\n",
       "      <th>sodium</th>\n",
       "      <th>total_carb</th>\n",
       "      <th>fiber</th>\n",
       "      <th>sugar</th>\n",
       "      <th>protein</th>\n",
       "      <th>calcium</th>\n",
       "    </tr>\n",
       "  </thead>\n",
       "  <tbody>\n",
       "    <tr>\n",
       "      <th>0</th>\n",
       "      <td>Mcdonalds</td>\n",
       "      <td>Artisan Grilled Chicken Sandwich</td>\n",
       "      <td>380</td>\n",
       "      <td>60.0</td>\n",
       "      <td>7</td>\n",
       "      <td>2.0</td>\n",
       "      <td>0.0</td>\n",
       "      <td>95</td>\n",
       "      <td>1110</td>\n",
       "      <td>44</td>\n",
       "      <td>3.0</td>\n",
       "      <td>11</td>\n",
       "      <td>37.0</td>\n",
       "      <td>20.0</td>\n",
       "    </tr>\n",
       "    <tr>\n",
       "      <th>1</th>\n",
       "      <td>Mcdonalds</td>\n",
       "      <td>Single Bacon Smokehouse Burger</td>\n",
       "      <td>840</td>\n",
       "      <td>410.0</td>\n",
       "      <td>45</td>\n",
       "      <td>17.0</td>\n",
       "      <td>1.5</td>\n",
       "      <td>130</td>\n",
       "      <td>1580</td>\n",
       "      <td>62</td>\n",
       "      <td>2.0</td>\n",
       "      <td>18</td>\n",
       "      <td>46.0</td>\n",
       "      <td>20.0</td>\n",
       "    </tr>\n",
       "    <tr>\n",
       "      <th>2</th>\n",
       "      <td>Mcdonalds</td>\n",
       "      <td>Double Bacon Smokehouse Burger</td>\n",
       "      <td>1130</td>\n",
       "      <td>600.0</td>\n",
       "      <td>67</td>\n",
       "      <td>27.0</td>\n",
       "      <td>3.0</td>\n",
       "      <td>220</td>\n",
       "      <td>1920</td>\n",
       "      <td>63</td>\n",
       "      <td>3.0</td>\n",
       "      <td>18</td>\n",
       "      <td>70.0</td>\n",
       "      <td>50.0</td>\n",
       "    </tr>\n",
       "    <tr>\n",
       "      <th>3</th>\n",
       "      <td>Mcdonalds</td>\n",
       "      <td>Grilled Bacon Smokehouse Chicken Sandwich</td>\n",
       "      <td>750</td>\n",
       "      <td>280.0</td>\n",
       "      <td>31</td>\n",
       "      <td>10.0</td>\n",
       "      <td>0.5</td>\n",
       "      <td>155</td>\n",
       "      <td>1940</td>\n",
       "      <td>62</td>\n",
       "      <td>2.0</td>\n",
       "      <td>18</td>\n",
       "      <td>55.0</td>\n",
       "      <td>20.0</td>\n",
       "    </tr>\n",
       "    <tr>\n",
       "      <th>4</th>\n",
       "      <td>Mcdonalds</td>\n",
       "      <td>Crispy Bacon Smokehouse Chicken Sandwich</td>\n",
       "      <td>920</td>\n",
       "      <td>410.0</td>\n",
       "      <td>45</td>\n",
       "      <td>12.0</td>\n",
       "      <td>0.5</td>\n",
       "      <td>120</td>\n",
       "      <td>1980</td>\n",
       "      <td>81</td>\n",
       "      <td>4.0</td>\n",
       "      <td>18</td>\n",
       "      <td>46.0</td>\n",
       "      <td>20.0</td>\n",
       "    </tr>\n",
       "  </tbody>\n",
       "</table>\n",
       "</div>"
      ],
      "text/plain": [
       "  restaurant                                       item  calories  cal_fat  \\\n",
       "0  Mcdonalds           Artisan Grilled Chicken Sandwich       380     60.0   \n",
       "1  Mcdonalds             Single Bacon Smokehouse Burger       840    410.0   \n",
       "2  Mcdonalds             Double Bacon Smokehouse Burger      1130    600.0   \n",
       "3  Mcdonalds  Grilled Bacon Smokehouse Chicken Sandwich       750    280.0   \n",
       "4  Mcdonalds   Crispy Bacon Smokehouse Chicken Sandwich       920    410.0   \n",
       "\n",
       "   total_fat  sat_fat  trans_fat  cholesterol  sodium  total_carb  fiber  \\\n",
       "0          7      2.0        0.0           95    1110          44    3.0   \n",
       "1         45     17.0        1.5          130    1580          62    2.0   \n",
       "2         67     27.0        3.0          220    1920          63    3.0   \n",
       "3         31     10.0        0.5          155    1940          62    2.0   \n",
       "4         45     12.0        0.5          120    1980          81    4.0   \n",
       "\n",
       "   sugar  protein  calcium  \n",
       "0     11     37.0     20.0  \n",
       "1     18     46.0     20.0  \n",
       "2     18     70.0     50.0  \n",
       "3     18     55.0     20.0  \n",
       "4     18     46.0     20.0  "
      ]
     },
     "execution_count": 103,
     "metadata": {},
     "output_type": "execute_result"
    }
   ],
   "source": [
    "data.head()"
   ]
  },
  {
   "cell_type": "code",
   "execution_count": 104,
   "id": "a5e6fb79",
   "metadata": {},
   "outputs": [],
   "source": [
    "data = data.loc[data['total_fat'] <= 125]"
   ]
  },
  {
   "cell_type": "code",
   "execution_count": 105,
   "id": "3626338a",
   "metadata": {},
   "outputs": [
    {
     "name": "stdout",
     "output_type": "stream",
     "text": [
      "<class 'pandas.core.frame.DataFrame'>\n",
      "Index: 513 entries, 0 to 514\n",
      "Data columns (total 14 columns):\n",
      " #   Column       Non-Null Count  Dtype  \n",
      "---  ------       --------------  -----  \n",
      " 0   restaurant   510 non-null    object \n",
      " 1   item         513 non-null    object \n",
      " 2   calories     513 non-null    int64  \n",
      " 3   cal_fat      512 non-null    float64\n",
      " 4   total_fat    513 non-null    int64  \n",
      " 5   sat_fat      513 non-null    float64\n",
      " 6   trans_fat    513 non-null    float64\n",
      " 7   cholesterol  513 non-null    int64  \n",
      " 8   sodium       513 non-null    int64  \n",
      " 9   total_carb   513 non-null    int64  \n",
      " 10  fiber        501 non-null    float64\n",
      " 11  sugar        513 non-null    int64  \n",
      " 12  protein      511 non-null    float64\n",
      " 13  calcium      304 non-null    float64\n",
      "dtypes: float64(6), int64(6), object(2)\n",
      "memory usage: 60.1+ KB\n"
     ]
    }
   ],
   "source": [
    "data.info()"
   ]
  },
  {
   "cell_type": "code",
   "execution_count": 106,
   "id": "c2147f5e",
   "metadata": {},
   "outputs": [],
   "source": [
    "# Mozemo da obrisemo celu kolonu calcium, jer ima previse null vrednosti (preko 20%)\n",
    "# Mozemo da obrisemo cele kolone restoran i item, jer ne uticu na predikciju proteina u nekom proizvodu\n",
    "data.drop(columns=['calcium', 'restaurant', 'item'], inplace=True)"
   ]
  },
  {
   "cell_type": "code",
   "execution_count": 107,
   "id": "816a6f03",
   "metadata": {},
   "outputs": [
    {
     "name": "stdout",
     "output_type": "stream",
     "text": [
      "<class 'pandas.core.frame.DataFrame'>\n",
      "Index: 513 entries, 0 to 514\n",
      "Data columns (total 11 columns):\n",
      " #   Column       Non-Null Count  Dtype  \n",
      "---  ------       --------------  -----  \n",
      " 0   calories     513 non-null    int64  \n",
      " 1   cal_fat      512 non-null    float64\n",
      " 2   total_fat    513 non-null    int64  \n",
      " 3   sat_fat      513 non-null    float64\n",
      " 4   trans_fat    513 non-null    float64\n",
      " 5   cholesterol  513 non-null    int64  \n",
      " 6   sodium       513 non-null    int64  \n",
      " 7   total_carb   513 non-null    int64  \n",
      " 8   fiber        501 non-null    float64\n",
      " 9   sugar        513 non-null    int64  \n",
      " 10  protein      511 non-null    float64\n",
      "dtypes: float64(5), int64(6)\n",
      "memory usage: 48.1 KB\n"
     ]
    }
   ],
   "source": [
    "data.info()"
   ]
  },
  {
   "cell_type": "code",
   "execution_count": 108,
   "id": "e9bfec4f",
   "metadata": {},
   "outputs": [
    {
     "name": "stdout",
     "output_type": "stream",
     "text": [
      "6.757332391663269e-17\n",
      "5.690708577506462e-20\n",
      "3.866950249677197e-18\n"
     ]
    }
   ],
   "source": [
    "from scipy.stats import shapiro\n",
    "\n",
    "nullable_columns = ['cal_fat', 'fiber', 'protein']\n",
    "\n",
    "for nullable_column in nullable_columns:\n",
    "    non_nullable_column_data = data[nullable_column].dropna()\n",
    "    _, p = shapiro(non_nullable_column_data)\n",
    "    print(f'{p}')\n",
    "    if (p < 0.05):\n",
    "        data[nullable_column].fillna(non_nullable_column_data.median(), inplace=True)\n",
    "    else:\n",
    "        data[nullable_column].fillna(non_nullable_column_data.mean(), inplace=True)\n",
    "    "
   ]
  },
  {
   "cell_type": "code",
   "execution_count": 109,
   "id": "cce2f83f",
   "metadata": {},
   "outputs": [
    {
     "name": "stdout",
     "output_type": "stream",
     "text": [
      "<class 'pandas.core.frame.DataFrame'>\n",
      "Index: 513 entries, 0 to 514\n",
      "Data columns (total 11 columns):\n",
      " #   Column       Non-Null Count  Dtype  \n",
      "---  ------       --------------  -----  \n",
      " 0   calories     513 non-null    int64  \n",
      " 1   cal_fat      513 non-null    float64\n",
      " 2   total_fat    513 non-null    int64  \n",
      " 3   sat_fat      513 non-null    float64\n",
      " 4   trans_fat    513 non-null    float64\n",
      " 5   cholesterol  513 non-null    int64  \n",
      " 6   sodium       513 non-null    int64  \n",
      " 7   total_carb   513 non-null    int64  \n",
      " 8   fiber        513 non-null    float64\n",
      " 9   sugar        513 non-null    int64  \n",
      " 10  protein      513 non-null    float64\n",
      "dtypes: float64(5), int64(6)\n",
      "memory usage: 48.1 KB\n"
     ]
    }
   ],
   "source": [
    "data.info()"
   ]
  }
 ],
 "metadata": {
  "kernelspec": {
   "display_name": "Python 3",
   "language": "python",
   "name": "python3"
  },
  "language_info": {
   "codemirror_mode": {
    "name": "ipython",
    "version": 3
   },
   "file_extension": ".py",
   "mimetype": "text/x-python",
   "name": "python",
   "nbconvert_exporter": "python",
   "pygments_lexer": "ipython3",
   "version": "3.11.3"
  }
 },
 "nbformat": 4,
 "nbformat_minor": 5
}
