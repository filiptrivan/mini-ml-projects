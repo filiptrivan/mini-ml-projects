{
 "cells": [
  {
   "cell_type": "code",
   "execution_count": 28,
   "id": "e8965a5a",
   "metadata": {},
   "outputs": [],
   "source": [
    "import pandas as pd \n",
    "import numpy as np\n",
    "from scipy.stats import shapiro"
   ]
  },
  {
   "cell_type": "code",
   "execution_count": 29,
   "id": "491267dc",
   "metadata": {},
   "outputs": [
    {
     "name": "stdout",
     "output_type": "stream",
     "text": [
      "<class 'pandas.core.frame.DataFrame'>\n",
      "RangeIndex: 953 entries, 0 to 952\n",
      "Data columns (total 13 columns):\n",
      " #   Column                Non-Null Count  Dtype  \n",
      "---  ------                --------------  -----  \n",
      " 0   track_name            953 non-null    object \n",
      " 1   released_year         953 non-null    int64  \n",
      " 2   in_spotify_playlists  953 non-null    int64  \n",
      " 3   in_spotify_charts     951 non-null    float64\n",
      " 4   streams               953 non-null    int64  \n",
      " 5   in_apple_playlists    953 non-null    int64  \n",
      " 6   in_apple_charts       951 non-null    float64\n",
      " 7   bpm                   953 non-null    int64  \n",
      " 8   mode                  953 non-null    object \n",
      " 9   energy                953 non-null    int64  \n",
      " 10  instrumentalness      953 non-null    int64  \n",
      " 11  liveness              953 non-null    int64  \n",
      " 12  speechiness           953 non-null    int64  \n",
      "dtypes: float64(2), int64(9), object(2)\n",
      "memory usage: 96.9+ KB\n",
      "None\n"
     ]
    }
   ],
   "source": [
    "data = pd.read_csv('spotify.csv', na_values=['-', ' ', ''])\n",
    "print(data.info())"
   ]
  },
  {
   "cell_type": "code",
   "execution_count": 30,
   "id": "442e14b4",
   "metadata": {},
   "outputs": [
    {
     "name": "stdout",
     "output_type": "stream",
     "text": [
      "0    0\n",
      "1    0\n",
      "2    0\n",
      "3    1\n",
      "4    0\n",
      "Name: HighStreams, dtype: int32\n"
     ]
    }
   ],
   "source": [
    "thirdQuantile = data['streams'].quantile(0.75)\n",
    "data['HighStreams'] = (data['streams'] > thirdQuantile).astype(int)\n",
    "# data['HighStreams'] = np.where(data['streams'] > thirdQuantile, 1, 0)\n",
    "print(data['HighStreams'].head())"
   ]
  },
  {
   "cell_type": "code",
   "execution_count": null,
   "id": "6130ff09",
   "metadata": {},
   "outputs": [
    {
     "name": "stdout",
     "output_type": "stream",
     "text": [
      "0    147.0\n",
      "1     48.0\n",
      "2    113.0\n",
      "3      NaN\n",
      "4     50.0\n",
      "Name: in_spotify_charts, dtype: float64\n",
      "0    263.0\n",
      "1    126.0\n",
      "2    207.0\n",
      "3    207.0\n",
      "4    133.0\n",
      "Name: in_apple_charts, dtype: float64\n",
      "ShapiroResult(statistic=0.665931224822998, pvalue=1.4519175687516224e-39)\n",
      "ShapiroResult(statistic=0.8839384317398071, pvalue=4.468788251553773e-26)\n"
     ]
    }
   ],
   "source": [
    "print(data['in_spotify_charts'].head())\n",
    "print(data['in_apple_charts'].head())\n",
    "\n",
    "ps = shapiro(data['in_spotify_charts'].dropna())\n",
    "print(ps)\n",
    "ps = shapiro(data['in_apple_charts'].dropna())\n",
    "print(ps)\n",
    "\n",
    "sm = data['in_spotify_charts'].median()\n",
    "data['in_spotify_charts'].fillna(sm, inplace=True)\n",
    "\n",
    "am = data['in_apple_charts'].median()\n",
    "data['in_apple_charts'].fillna(am, inplace=True)"
   ]
  },
  {
   "cell_type": "code",
   "execution_count": null,
   "id": "be4be703",
   "metadata": {},
   "outputs": [],
   "source": []
  }
 ],
 "metadata": {
  "kernelspec": {
   "display_name": "Python 3",
   "language": "python",
   "name": "python3"
  },
  "language_info": {
   "codemirror_mode": {
    "name": "ipython",
    "version": 3
   },
   "file_extension": ".py",
   "mimetype": "text/x-python",
   "name": "python",
   "nbconvert_exporter": "python",
   "pygments_lexer": "ipython3",
   "version": "3.11.3"
  }
 },
 "nbformat": 4,
 "nbformat_minor": 5
}
